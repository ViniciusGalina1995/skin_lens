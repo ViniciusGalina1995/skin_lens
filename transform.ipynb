{
 "cells": [
  {
   "cell_type": "code",
   "execution_count": null,
   "id": "ff1cfeda",
   "metadata": {},
   "outputs": [],
   "source": [
    "import numpy as np\n",
    "import os\n",
    "import kaggle\n",
    "import shutil\n",
    "import random\n",
    "import matplotlib.pyplot as plt\n",
    "from PIL import Image\n",
    "from sklearn.preprocessing import LabelEncoder\n",
    "from sklearn.model_selection import train_test_split"
   ]
  },
  {
   "cell_type": "code",
   "execution_count": null,
   "id": "5b4f1ddb",
   "metadata": {},
   "outputs": [],
   "source": [
    "pip install kaggle"
   ]
  },
  {
   "cell_type": "code",
   "execution_count": null,
   "id": "34f4b51f",
   "metadata": {},
   "outputs": [],
   "source": [
    "def download_dataset(kaggle_dataset, download_path):\n",
    "    if not os.path.exists(download_path):\n",
    "        os.makedirs(download_path)\n",
    "        kaggle.api.dataset_download_files(kaggle_dataset, path=download_path, unzip=True)\n",
    "        print(f\"Dataset downloaded to {download_path}\")\n",
    "        \n",
    "        original_path = os.path.join(download_path, 'Skin Cancer Dataset')\n",
    "        if os.path.exists(original_path):\n",
    "            new_path = os.path.join(download_path, 'Skin Cancer Dataset')\n",
    "            shutil.move(original_path, new_path)\n",
    "            print(f\"Moved the dataset to {new_path}\")\n",
    "    else:\n",
    "        print(f\"Dataset already exists at {download_path}. Skipping download.\")\n",
    "\n",
    "def load_images_and_labels(dataset_path, image_size=(224, 224)):\n",
    "    images = []\n",
    "    labels = []\n",
    "    \n",
    "    dataset_path = os.path.join(dataset_path, 'Skin Cancer Dataset') \n",
    "    \n",
    "    for label_dir in os.listdir(dataset_path):\n",
    "        label_dir_path = os.path.join(dataset_path, label_dir)\n",
    "        \n",
    "        if os.path.isdir(label_dir_path):\n",
    "            for img_name in os.listdir(label_dir_path):\n",
    "                img_path = os.path.join(label_dir_path, img_name)\n",
    "                \n",
    "                if img_name.lower().endswith(('.png', '.jpg', '.jpeg')):\n",
    "                    try:\n",
    "                        img = Image.open(img_path).convert(\"RGB\")\n",
    "                        img = img.resize(image_size)\n",
    "                        images.append(img)\n",
    "                        labels.append(label_dir)\n",
    "                    except Exception as e:\n",
    "                        print(f\"Could not load image {img_name}: {e}\")\n",
    "                        \n",
    "    return images, labels\n",
    "\n",
    "# creating directories for train, validation, test datasets\n",
    "def create_directories(base_path, disease_labels):\n",
    "    for split in ['train', 'val', 'test']:\n",
    "        split_path = os.path.join(base_path, split)\n",
    "        if not os.path.exists(split_path):\n",
    "            os.makedirs(split_path)\n",
    "        \n",
    "        # Creating subdirectories for each disease label\n",
    "        for label in disease_labels:\n",
    "            label_path = os.path.join(split_path, label)\n",
    "            if not os.path.exists(label_path):\n",
    "                os.makedirs(label_path)\n",
    "\n",
    "# copy images to correct directories\n",
    "def copy_images_to_directories(images, labels, label_encoder, base_path):\n",
    "    data = list(zip(images, labels))\n",
    "    random.shuffle(data)\n",
    "    images, labels = zip(*data)\n",
    "    \n",
    "    disease_labels = label_encoder.classes_\n",
    "\n",
    "    # Split data into train, validation, and test sets\n",
    "    X_train, X_temp, y_train, y_temp = train_test_split(images, labels, test_size=0.2, random_state=42)\n",
    "    X_val, X_test, y_val, y_test = train_test_split(X_temp, y_temp, test_size=0.5, random_state=42)\n",
    "    \n",
    "    create_directories(base_path, disease_labels)\n",
    "\n",
    "    # copy images based on split\n",
    "    def copy_split_images(split, images, labels):\n",
    "        split_map = {'train': X_train, 'val': X_val, 'test': X_test}\n",
    "        for i, image in enumerate(split_map[split]):\n",
    "            label = labels[i]\n",
    "            label_index = label_encoder.transform([label])[0]\n",
    "            disease_label = disease_labels[label_index]\n",
    "            \n",
    "            split_dir = os.path.join(base_path, split, disease_label)\n",
    "            image.save(os.path.join(split_dir, f\"{split}_{i}.jpg\"))\n",
    "\n",
    "    \n",
    "    for split in ['train', 'val', 'test']:\n",
    "        copy_split_images(split, images, labels)\n",
    "\n",
    "download_path = 'data/'\n",
    "\n",
    "kaggle_dataset = 'pritpal2873/multiple-skin-disease-detection-and-classification'\n",
    "download_dataset(kaggle_dataset, download_path)\n",
    "\n",
    "images, labels = load_images_and_labels(download_path)\n",
    "\n",
    "label_encoder = LabelEncoder()\n",
    "labels_encoded = label_encoder.fit_transform(labels)\n",
    "\n",
    "base_directory = 'data/Skin_Cancer_Split'\n",
    "\n",
    "copy_images_to_directories(images, labels, label_encoder, base_directory)\n"
   ]
  },
  {
   "cell_type": "code",
   "execution_count": null,
   "id": "03367ee5",
   "metadata": {},
   "outputs": [],
   "source": [
    "print(f\"Training set size: {len(X_train)}\")\n",
    "print(f\"Test set size: {len(X_test)}\")\n",
    "print(f\"Val set size: {len(X_val)}\")"
   ]
  },
  {
   "cell_type": "code",
   "execution_count": null,
   "id": "3833a6fd",
   "metadata": {},
   "outputs": [],
   "source": [
    "# loading few images for testing\n",
    "for i in range(5): \n",
    "    plt.imshow(images[i])\n",
    "    plt.title(f\"Label: {labels[i]} (Encoded: {labels_encoded[i]})\")\n",
    "    plt.axis('off')\n",
    "    plt.show()\n"
   ]
  },
  {
   "cell_type": "code",
   "execution_count": null,
   "id": "0e9b70d7",
   "metadata": {},
   "outputs": [],
   "source": [
    "#shape of the first image\n",
    "print(f\"Shape of the first image: {images[0].size}\")\n",
    "print(f\"Number of images: {len(images)}\")\n",
    "print(f\"Number of labels: {len(labels)}\")"
   ]
  },
  {
   "cell_type": "code",
   "execution_count": null,
   "id": "844174e5",
   "metadata": {},
   "outputs": [],
   "source": [
    "#unique labels and their encoded values\n",
    "print(\"Unique labels:\", label_encoder.classes_)\n",
    "print(\"Encoded labels:\", labels_encoded[:5]) "
   ]
  },
  {
   "cell_type": "code",
   "execution_count": null,
   "id": "193c7338",
   "metadata": {},
   "outputs": [],
   "source": [
    "#first few image paths and their labels\n",
    "for i in range(5):\n",
    "    print(f\"Image: {images[i]} - Label: {labels[i]} (Encoded: {labels_encoded[i]})\")"
   ]
  },
  {
   "cell_type": "code",
   "execution_count": null,
   "id": "c9638d75",
   "metadata": {},
   "outputs": [],
   "source": [
    "#Distribution of labels in the split data\n",
    "print(\"Training label distribution:\", np.bincount(y_train))\n",
    "print(\"Test label distribution:\", np.bincount(y_test))"
   ]
  },
  {
   "cell_type": "code",
   "execution_count": null,
   "id": "528ea781",
   "metadata": {},
   "outputs": [],
   "source": []
  }
 ],
 "metadata": {
  "kernelspec": {
   "display_name": "Python 3 (ipykernel)",
   "language": "python",
   "name": "python3"
  },
  "language_info": {
   "codemirror_mode": {
    "name": "ipython",
    "version": 3
   },
   "file_extension": ".py",
   "mimetype": "text/x-python",
   "name": "python",
   "nbconvert_exporter": "python",
   "pygments_lexer": "ipython3",
   "version": "3.10.6"
  },
  "toc": {
   "base_numbering": 1,
   "nav_menu": {},
   "number_sections": true,
   "sideBar": true,
   "skip_h1_title": false,
   "title_cell": "Table of Contents",
   "title_sidebar": "Contents",
   "toc_cell": false,
   "toc_position": {},
   "toc_section_display": true,
   "toc_window_display": false
  }
 },
 "nbformat": 4,
 "nbformat_minor": 5
}
