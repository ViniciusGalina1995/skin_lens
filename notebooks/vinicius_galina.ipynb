{
 "cells": [
  {
   "cell_type": "code",
   "execution_count": 25,
   "id": "4e31332b",
   "metadata": {
    "ExecuteTime": {
     "end_time": "2025-01-28T11:03:09.602112Z",
     "start_time": "2025-01-28T11:03:09.594512Z"
    }
   },
   "outputs": [],
   "source": [
    "import os\n"
   ]
  },
  {
   "cell_type": "code",
   "execution_count": 9,
   "id": "918a103f",
   "metadata": {
    "ExecuteTime": {
     "end_time": "2025-01-28T10:50:13.968112Z",
     "start_time": "2025-01-28T10:49:43.186201Z"
    }
   },
   "outputs": [
    {
     "name": "stdout",
     "output_type": "stream",
     "text": [
      "  % Total    % Received % Xferd  Average Speed   Time    Time     Time  Current\n",
      "                                 Dload  Upload   Total   Spent    Left  Speed\n",
      "  0     0    0     0    0     0      0      0 --:--:-- --:--:-- --:--:--     0\n",
      "100  784M  100  784M    0     0  25.6M      0  0:00:30  0:00:30 --:--:-- 24.7M 0:00:30  0:00:24  0:00:06 26.4M\n"
     ]
    }
   ],
   "source": [
    "!curl -L -o ~/code/ViniciusGalina1995/skin_lens/raw_data/multiple-skin-disease-detection-and-classification.zip\\\n",
    "  https://www.kaggle.com/api/v1/datasets/download/pritpal2873/multiple-skin-disease-detection-and-classification"
   ]
  },
  {
   "cell_type": "code",
   "execution_count": 13,
   "id": "a3c1600e",
   "metadata": {
    "ExecuteTime": {
     "end_time": "2025-01-28T10:52:52.677823Z",
     "start_time": "2025-01-28T10:52:43.708262Z"
    }
   },
   "outputs": [],
   "source": [
    "!unzip -qn ~/code/ViniciusGalina1995/skin_lens/raw_data/multiple-skin-disease-detection-and-classification.zip -d ~/code/ViniciusGalina1995/skin_lens/raw_data/\n"
   ]
  },
  {
   "cell_type": "code",
   "execution_count": 14,
   "id": "99972184",
   "metadata": {
    "ExecuteTime": {
     "end_time": "2025-01-28T10:53:26.213017Z",
     "start_time": "2025-01-28T10:53:22.694481Z"
    }
   },
   "outputs": [
    {
     "name": "stderr",
     "output_type": "stream",
     "text": [
      "Copying files: 4109 files [00:03, 1175.81 files/s]\n"
     ]
    }
   ],
   "source": [
    "import splitfolders\n",
    "\n",
    "input_folder = r'/home/vinicius/code/ViniciusGalina1995/skin_lens/raw_data/Skin Cancer Dataset'\n",
    "\n",
    "# Split with a ratio\n",
    "# To only split into training and validation set, set a tuple to ratio, i.e; 80/20\n",
    "#Train, val, test\n",
    "splitfolders.ratio(input_folder, output=r'/home/vinicius/code/ViniciusGalina1995/skin_lens/raw_data/Split', \n",
    "                   seed=42, ratio=(.7, .1, .2), \n",
    "                   group_prefix=None) # default values"
   ]
  },
  {
   "cell_type": "code",
   "execution_count": 31,
   "id": "624f370a",
   "metadata": {
    "ExecuteTime": {
     "end_time": "2025-01-28T11:09:20.344505Z",
     "start_time": "2025-01-28T11:09:20.333674Z"
    }
   },
   "outputs": [],
   "source": [
    "train_dir = os.path.join(\"..\", \"raw_data\", \"Split\", \"train\")\n",
    "val_dir = os.path.join(\"..\", \"raw_data\", \"Split\", \"val\")\n",
    "test_dir = os.path.join(\"..\", \"raw_data\", \"Split\", \"test\")\n",
    "batch_size = 64"
   ]
  },
  {
   "cell_type": "code",
   "execution_count": 22,
   "id": "908675de",
   "metadata": {
    "ExecuteTime": {
     "end_time": "2025-01-28T10:56:10.576829Z",
     "start_time": "2025-01-28T10:56:10.567112Z"
    }
   },
   "outputs": [],
   "source": [
    "from tensorflow.keras.utils import image_dataset_from_directory # type: ignore\n",
    "\n",
    "def load_data(data_dir: str):\n",
    "\n",
    "    ds = image_dataset_from_directory(\n",
    "    data_dir,\n",
    "    labels=\"inferred\",\n",
    "    label_mode=\"categorical\",\n",
    "    seed=123,\n",
    "    image_size=(150, 150),\n",
    "    batch_size=batch_size)\n",
    "\n",
    "    return ds"
   ]
  },
  {
   "cell_type": "code",
   "execution_count": 27,
   "id": "6929f89c",
   "metadata": {
    "ExecuteTime": {
     "end_time": "2025-01-28T11:03:20.621649Z",
     "start_time": "2025-01-28T11:03:18.765814Z"
    }
   },
   "outputs": [
    {
     "name": "stdout",
     "output_type": "stream",
     "text": [
      "Found 2874 files belonging to 9 classes.\n"
     ]
    },
    {
     "name": "stderr",
     "output_type": "stream",
     "text": [
      "2025-01-28 12:03:20.266955: I tensorflow/stream_executor/cuda/cuda_gpu_executor.cc:966] could not open file to read NUMA node: /sys/bus/pci/devices/0000:01:00.0/numa_node\n",
      "Your kernel may have been built without NUMA support.\n",
      "2025-01-28 12:03:20.267343: W tensorflow/stream_executor/platform/default/dso_loader.cc:64] Could not load dynamic library 'libcudart.so.11.0'; dlerror: libcudart.so.11.0: cannot open shared object file: No such file or directory\n",
      "2025-01-28 12:03:20.267501: W tensorflow/stream_executor/platform/default/dso_loader.cc:64] Could not load dynamic library 'libcublas.so.11'; dlerror: libcublas.so.11: cannot open shared object file: No such file or directory\n",
      "2025-01-28 12:03:20.267945: W tensorflow/stream_executor/platform/default/dso_loader.cc:64] Could not load dynamic library 'libcublasLt.so.11'; dlerror: libcublasLt.so.11: cannot open shared object file: No such file or directory\n",
      "2025-01-28 12:03:20.268788: W tensorflow/stream_executor/platform/default/dso_loader.cc:64] Could not load dynamic library 'libcufft.so.10'; dlerror: libcufft.so.10: cannot open shared object file: No such file or directory\n",
      "2025-01-28 12:03:20.269320: W tensorflow/stream_executor/platform/default/dso_loader.cc:64] Could not load dynamic library 'libcurand.so.10'; dlerror: libcurand.so.10: cannot open shared object file: No such file or directory\n",
      "2025-01-28 12:03:20.270257: W tensorflow/stream_executor/platform/default/dso_loader.cc:64] Could not load dynamic library 'libcusolver.so.11'; dlerror: libcusolver.so.11: cannot open shared object file: No such file or directory\n",
      "2025-01-28 12:03:20.270488: W tensorflow/stream_executor/platform/default/dso_loader.cc:64] Could not load dynamic library 'libcusparse.so.11'; dlerror: libcusparse.so.11: cannot open shared object file: No such file or directory\n",
      "2025-01-28 12:03:20.270682: W tensorflow/stream_executor/platform/default/dso_loader.cc:64] Could not load dynamic library 'libcudnn.so.8'; dlerror: libcudnn.so.8: cannot open shared object file: No such file or directory\n",
      "2025-01-28 12:03:20.270735: W tensorflow/core/common_runtime/gpu/gpu_device.cc:1934] Cannot dlopen some GPU libraries. Please make sure the missing libraries mentioned above are installed properly if you would like to use GPU. Follow the guide at https://www.tensorflow.org/install/gpu for how to download and setup the required libraries for your platform.\n",
      "Skipping registering GPU devices...\n",
      "2025-01-28 12:03:20.293229: I tensorflow/core/platform/cpu_feature_guard.cc:193] This TensorFlow binary is optimized with oneAPI Deep Neural Network Library (oneDNN) to use the following CPU instructions in performance-critical operations:  AVX2 FMA\n",
      "To enable them in other operations, rebuild TensorFlow with the appropriate compiler flags.\n"
     ]
    }
   ],
   "source": [
    "train_ds = load_data(train_dir)\n"
   ]
  },
  {
   "cell_type": "code",
   "execution_count": 28,
   "id": "acc5ffad",
   "metadata": {
    "ExecuteTime": {
     "end_time": "2025-01-28T11:03:36.702237Z",
     "start_time": "2025-01-28T11:03:36.685459Z"
    }
   },
   "outputs": [
    {
     "data": {
      "text/plain": [
       "['Acitinic Keratosis',\n",
       " 'Basal Cell Carcinoma',\n",
       " 'Dermatofibroma',\n",
       " 'Melanoma',\n",
       " 'Nevus',\n",
       " 'Pigmented Benign Keratosis',\n",
       " 'Seborrheic Keratosis',\n",
       " 'Squamous Cell Carcinoma',\n",
       " 'Vascular Lesion']"
      ]
     },
     "execution_count": 28,
     "metadata": {},
     "output_type": "execute_result"
    }
   ],
   "source": [
    "train_ds.class_names"
   ]
  },
  {
   "cell_type": "code",
   "execution_count": 29,
   "id": "231ed616",
   "metadata": {
    "ExecuteTime": {
     "end_time": "2025-01-28T11:05:01.750776Z",
     "start_time": "2025-01-28T11:05:01.740314Z"
    }
   },
   "outputs": [
    {
     "data": {
      "text/plain": [
       "tensorflow.python.data.ops.dataset_ops.BatchDataset"
      ]
     },
     "execution_count": 29,
     "metadata": {},
     "output_type": "execute_result"
    }
   ],
   "source": [
    "type(train_ds)"
   ]
  },
  {
   "cell_type": "code",
   "execution_count": null,
   "id": "f13723c5",
   "metadata": {},
   "outputs": [],
   "source": []
  }
 ],
 "metadata": {
  "kernelspec": {
   "display_name": "Python 3 (ipykernel)",
   "language": "python",
   "name": "python3"
  },
  "language_info": {
   "codemirror_mode": {
    "name": "ipython",
    "version": 3
   },
   "file_extension": ".py",
   "mimetype": "text/x-python",
   "name": "python",
   "nbconvert_exporter": "python",
   "pygments_lexer": "ipython3",
   "version": "3.10.6"
  },
  "toc": {
   "base_numbering": 1,
   "nav_menu": {},
   "number_sections": true,
   "sideBar": true,
   "skip_h1_title": false,
   "title_cell": "Table of Contents",
   "title_sidebar": "Contents",
   "toc_cell": false,
   "toc_position": {},
   "toc_section_display": true,
   "toc_window_display": false
  }
 },
 "nbformat": 4,
 "nbformat_minor": 5
}
